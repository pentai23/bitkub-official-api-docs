import ccxt

while True:
  ## Login 
  import ccxt
  # เปลี่ยน API เปลียน ข้อมูลกันด้วยนะครับ
  apiKey    = "MNNharayFkMPHeSqsxqlng9ZTJm7QmElgLQhKr6OJ3EkE7EAKbgVgOsOeHLiN8DO" #@param {type:"string"}
  secret    = "zB3gqz0zSfWMTXQXiJOijBGqvKmMN8FBjy8AS59nXjq9mlvMOgq8oa2JqjvPqsKt" #@param {type:"string"}
  password  = "159753mM-" #@param {type:"string"}
  Account_name  = "FTT" #@param {type:"string"}

  exchange = ccxt.binance  ({'apiKey' : apiKey ,'secret' : secret ,'password' : password ,'enableRateLimit': True})
  # Sub Account Check
  if Account_name == "" :
    print("\n""Account Name - This is Main Account",': Broker - ',exchange)     
  else:
    print( "\n"'Account Name - ',Account_name,': Broker - ',exchange)
    exchange.headers = {'binance-SUBACCOUNT': Account_name,}
  # ดูในพอร์ท ว่ามีเงินเท่าไร
  Get_balance = exchange.fetch_balance()
  print(Get_balance)
  # ดูในพอร์ท ว่ามีเงินเท่าไร
  Asset_01 = Get_balance ['FTT'] ['total']
  Asset_02 = Get_balance ['BUSD'] ['total']
  print("Asset 01 = " , Asset_01,"FTT")
  print("Asset 02 = " , Asset_02,"BUSD")
  # เรียกดูราคา สินทรัพย์ ที่เราเทรด เพื่อหา มูลค่า
  get_price     = exchange.fetch_ticker('FTT/BUSD') 
  print(get_price)
  Average_price = (get_price ['bid'] + get_price ['ask'] ) / 2
  print("Average_price = " ,Average_price)
  # มูลค่า ของ Asset
  Asset_01_Value = Asset_01 * Average_price
  print("Asset_01_Value = " ,Asset_01_Value)

  Asset_02_Value = Asset_02 * 1
  print("Asset_02_Value = " ,Asset_02_Value)
  # เปรัียบเทียบ และ ตัดสินใจเทรด

  # Rebalance_mark = ((1943           + 1937)            / 2) = 1939
  Rebalance_mark   = ((Asset_01_Value + Asset_02_Value) / 2)
  Rebalance_percent = 1 #@param 
  
  #    Asset_01_Value > (1939           + (1939          *   1             /1939) ) :      
  if   Asset_01_Value > (Rebalance_mark + (Rebalance_mark*Rebalance_percent/100) ) :
    print("Asset_01_Value ",Asset_01_Value ,">", (Rebalance_mark + (Rebalance_mark*Rebalance_percent/100) ))
    print("SELL")
    diff_sell  = Asset_01_Value - Rebalance_mark
    print(diff_sell)
    #exchange.create_order('FTT/USD' ,'market','sell',(diff_sell/Average_price)) ## กำหนดเป็น Unit USD/Price

  elif Asset_01_Value < (Rebalance_mark - (Rebalance_mark*Rebalance_percent/100) ) :
    print("Asset_01_Value ",Asset_01_Value ,"<", (Rebalance_mark - (Rebalance_mark*Rebalance_percent/100) ))
    print("Buy")
    diff_buy  = Rebalance_mark - Asset_01_Value
    print(diff_buy)
    #exchange.create_order('FTT/USD' ,'market','buy',(diff_buy/Average_price))
    
  else :
    print("None Trade")



  import time
  sleep = 10 
  print("Sleep",sleep,"sec.")
  time.sleep(sleep) # Delay for 1 minute (60 seconds).  
