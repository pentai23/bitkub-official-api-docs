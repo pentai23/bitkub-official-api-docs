{
  "nbformat": 4,
  "nbformat_minor": 0,
  "metadata": {
    "colab": {
      "name": "Rebalancing [50/50] [FTX] [Sample]",
      "provenance": [],
      "collapsed_sections": [],
      "include_colab_link": true
    },
    "kernelspec": {
      "name": "python3",
      "display_name": "Python 3"
    }
  },
  "cells": [
    {
      "cell_type": "markdown",
      "metadata": {
        "id": "view-in-github",
        "colab_type": "text"
      },
      "source": [
        "<a href=\"https://colab.research.google.com/github/pentai23/bitkub-official-api-docs/blob/master/Rebalancing_%5B50_50%5D_%5BFTX%5D_%5BSample%5D.ipynb\" target=\"_parent\"><img src=\"https://colab.research.google.com/assets/colab-badge.svg\" alt=\"Open In Colab\"/></a>"
      ]
    },
    {
      "cell_type": "code",
      "metadata": {
        "id": "p4AHtwl0D1Ah",
        "colab": {
          "base_uri": "https://localhost:8080/"
        },
        "outputId": "ee03e0c6-18bf-417f-fd78-7aa3323e81e2"
      },
      "source": [
        "!pip install ccxt\n",
        "# cr:\n",
        "# พี่ต้าน Mudley\n",
        "# กลุ่ม กองทุนความมั่งคั่งแห่งชาติ"
      ],
      "execution_count": null,
      "outputs": [
        {
          "output_type": "stream",
          "text": [
            "Collecting ccxt\n",
            "\u001b[?25l  Downloading https://files.pythonhosted.org/packages/a4/54/54c833920f3a88820c256c9bccdbacd736d7f17c460e57d3dd4ea1e49978/ccxt-1.49.80-py2.py3-none-any.whl (2.1MB)\n",
            "\u001b[K     |████████████████████████████████| 2.2MB 6.7MB/s \n",
            "\u001b[?25hCollecting aiohttp<3.8,>=3.7.4; python_version >= \"3.5.2\"\n",
            "\u001b[?25l  Downloading https://files.pythonhosted.org/packages/88/c0/5890b4c8b04a79b7360e8fe4490feb0bb3ab179743f199f0e6220cebd568/aiohttp-3.7.4.post0-cp37-cp37m-manylinux2014_x86_64.whl (1.3MB)\n",
            "\u001b[K     |████████████████████████████████| 1.3MB 30.6MB/s \n",
            "\u001b[?25hRequirement already satisfied: certifi>=2018.1.18 in /usr/local/lib/python3.7/dist-packages (from ccxt) (2020.12.5)\n",
            "Requirement already satisfied: requests>=2.18.4 in /usr/local/lib/python3.7/dist-packages (from ccxt) (2.23.0)\n",
            "Requirement already satisfied: setuptools>=38.5.1 in /usr/local/lib/python3.7/dist-packages (from ccxt) (56.1.0)\n",
            "Collecting aiodns<2.1,>=1.1.1; python_version >= \"3.5.2\"\n",
            "  Downloading https://files.pythonhosted.org/packages/da/01/8f2d49b441573fd2478833bdba91cf0b853b4c750a1fbb9e98de1b94bb22/aiodns-2.0.0-py2.py3-none-any.whl\n",
            "Collecting yarl==1.6.3; python_version >= \"3.5.2\"\n",
            "\u001b[?25l  Downloading https://files.pythonhosted.org/packages/f1/62/046834c5fc998c88ab2ef722f5d42122230a632212c8afa76418324f53ff/yarl-1.6.3-cp37-cp37m-manylinux2014_x86_64.whl (294kB)\n",
            "\u001b[K     |████████████████████████████████| 296kB 41.6MB/s \n",
            "\u001b[?25hCollecting cryptography>=2.6.1\n",
            "\u001b[?25l  Downloading https://files.pythonhosted.org/packages/b2/26/7af637e6a7e87258b963f1731c5982fb31cd507f0d90d91836e446955d02/cryptography-3.4.7-cp36-abi3-manylinux2014_x86_64.whl (3.2MB)\n",
            "\u001b[K     |████████████████████████████████| 3.2MB 35.2MB/s \n",
            "\u001b[?25hCollecting async-timeout<4.0,>=3.0\n",
            "  Downloading https://files.pythonhosted.org/packages/e1/1e/5a4441be21b0726c4464f3f23c8b19628372f606755a9d2e46c187e65ec4/async_timeout-3.0.1-py3-none-any.whl\n",
            "Requirement already satisfied: typing-extensions>=3.6.5 in /usr/local/lib/python3.7/dist-packages (from aiohttp<3.8,>=3.7.4; python_version >= \"3.5.2\"->ccxt) (3.7.4.3)\n",
            "Requirement already satisfied: chardet<5.0,>=2.0 in /usr/local/lib/python3.7/dist-packages (from aiohttp<3.8,>=3.7.4; python_version >= \"3.5.2\"->ccxt) (3.0.4)\n",
            "Requirement already satisfied: attrs>=17.3.0 in /usr/local/lib/python3.7/dist-packages (from aiohttp<3.8,>=3.7.4; python_version >= \"3.5.2\"->ccxt) (20.3.0)\n",
            "Collecting multidict<7.0,>=4.5\n",
            "\u001b[?25l  Downloading https://files.pythonhosted.org/packages/7c/a6/4123b8165acbe773d1a8dc8e3f0d1edea16d29f7de018eda769abb56bd30/multidict-5.1.0-cp37-cp37m-manylinux2014_x86_64.whl (142kB)\n",
            "\u001b[K     |████████████████████████████████| 143kB 40.3MB/s \n",
            "\u001b[?25hRequirement already satisfied: urllib3!=1.25.0,!=1.25.1,<1.26,>=1.21.1 in /usr/local/lib/python3.7/dist-packages (from requests>=2.18.4->ccxt) (1.24.3)\n",
            "Requirement already satisfied: idna<3,>=2.5 in /usr/local/lib/python3.7/dist-packages (from requests>=2.18.4->ccxt) (2.10)\n",
            "Collecting pycares>=3.0.0\n",
            "\u001b[?25l  Downloading https://files.pythonhosted.org/packages/d3/ea/6367930636a9859cc9ea8cb738a3e0c4f9929c596806214d5df4c48565db/pycares-3.1.1-cp37-cp37m-manylinux2010_x86_64.whl (228kB)\n",
            "\u001b[K     |████████████████████████████████| 235kB 34.8MB/s \n",
            "\u001b[?25hRequirement already satisfied: cffi>=1.12 in /usr/local/lib/python3.7/dist-packages (from cryptography>=2.6.1->ccxt) (1.14.5)\n",
            "Requirement already satisfied: pycparser in /usr/local/lib/python3.7/dist-packages (from cffi>=1.12->cryptography>=2.6.1->ccxt) (2.20)\n",
            "Installing collected packages: multidict, yarl, async-timeout, aiohttp, pycares, aiodns, cryptography, ccxt\n",
            "Successfully installed aiodns-2.0.0 aiohttp-3.7.4.post0 async-timeout-3.0.1 ccxt-1.49.80 cryptography-3.4.7 multidict-5.1.0 pycares-3.1.1 yarl-1.6.3\n"
          ],
          "name": "stdout"
        }
      ]
    },
    {
      "cell_type": "code",
      "metadata": {
        "id": "TrVxjWAy8fMe",
        "colab": {
          "base_uri": "https://localhost:8080/"
        },
        "outputId": "aa10f755-82df-45a2-bdfe-172ae03248df"
      },
      "source": [
        "## Login \n",
        "\n",
        "import ccxt\n",
        "# เปลี่ยน API เปลียน ข้อมูลกันด้วยนะครับ\n",
        "apiKey    = \"QCRmk7hfi_WGcn4_K9_TG2OlMtu87x2dLQBBvDWE\" \n",
        "secret    = \"KhdBMjLE_MHY1_YcNaYxaEwBM72xWE9Zfb3H7O1e\" \n",
        "password  = \"\" \n",
        "Account_name  = \"FTT\" \n",
        "\n",
        "\n",
        "exchange = ccxt.ftx  ({'apiKey' : apiKey ,'secret' : secret ,'password' : password ,'enableRateLimit': True})\n",
        "# Sub Account Check\n",
        "if Account_name == \"\" :\n",
        "  print(\"\\n\"\"Account Name - This is Main Account\",': Broker - ',exchange)     \n",
        "else:\n",
        "  print( \"\\n\"'Account Name - ',Account_name,': Broker - ',exchange)\n",
        "  exchange.headers = {'ftx-SUBACCOUNT': Account_name,}\n"
      ],
      "execution_count": null,
      "outputs": [
        {
          "output_type": "stream",
          "text": [
            "\n",
            "Account Name -  FTT : Broker -  FTX\n"
          ],
          "name": "stdout"
        }
      ]
    },
    {
      "cell_type": "code",
      "metadata": {
        "id": "UBR9N1bbObwm",
        "colab": {
          "base_uri": "https://localhost:8080/"
        },
        "outputId": "927178c8-4194-4755-c2c5-cf0c96553473"
      },
      "source": [
        "# ดูในพอร์ท ว่ามีเงินเท่าไร\n",
        "Get_balance = exchange.fetch_balance()\n",
        "print(Get_balance)"
      ],
      "execution_count": null,
      "outputs": [
        {
          "output_type": "stream",
          "text": [
            "{'info': {'success': True, 'result': [{'coin': 'USD', 'total': '1907.86392238', 'free': '1162.94705415', 'availableWithoutBorrow': '814.44897456', 'usdValue': '1907.8639223828868', 'spotBorrow': '0.0'}, {'coin': 'FTT', 'total': '33.31363815', 'free': '6.81363815', 'availableWithoutBorrow': '6.81363815', 'usdValue': '1972.933592453565', 'spotBorrow': '0.0'}]}, 'USD': {'free': 1162.94705415, 'used': 744.91686823, 'total': 1907.86392238}, 'FTT': {'free': 6.81363815, 'used': 26.5, 'total': 33.31363815}, 'free': {'USD': 1162.94705415, 'FTT': 6.81363815}, 'used': {'USD': 744.91686823, 'FTT': 26.5}, 'total': {'USD': 1907.86392238, 'FTT': 33.31363815}}\n"
          ],
          "name": "stdout"
        }
      ]
    },
    {
      "cell_type": "code",
      "metadata": {
        "id": "UPgcOiRES_Ja",
        "colab": {
          "base_uri": "https://localhost:8080/"
        },
        "outputId": "d52fd0f0-4c49-4175-9177-1059805d7259"
      },
      "source": [
        "# ดูในพอร์ท ว่ามีเงินเท่าไร\n",
        "Asset_01 = Get_balance ['FTT'] ['total']\n",
        "Asset_02 = Get_balance ['USD'] ['total']\n",
        "print(\"Asset 01 = \" , Asset_01,\"FTT\")\n",
        "print(\"Asset 02 = \" , Asset_02,\"USD\")"
      ],
      "execution_count": null,
      "outputs": [
        {
          "output_type": "stream",
          "text": [
            "Asset 01 =  33.31363815 FTT\n",
            "Asset 02 =  1907.86392238 USD\n"
          ],
          "name": "stdout"
        }
      ]
    },
    {
      "cell_type": "code",
      "metadata": {
        "colab": {
          "base_uri": "https://localhost:8080/"
        },
        "id": "wryaKvv9TLwF",
        "outputId": "401dde93-48e5-412d-c97a-5139d00e2493"
      },
      "source": [
        "# เรียกดูราคา สินทรัพย์ ที่เราเทรด เพื่อหา มูลค่า\n",
        "get_price     = exchange.fetch_ticker('FTT/USD') \n",
        "print(get_price)\n",
        "Average_price = (get_price ['bid'] + get_price ['ask'] ) / 2\n",
        "print(\"Average_price = \" ,Average_price)\n"
      ],
      "execution_count": null,
      "outputs": [
        {
          "output_type": "stream",
          "text": [
            "{'symbol': 'FTT/USD', 'timestamp': 1620722317845, 'datetime': '2021-05-11T08:38:37.845Z', 'high': None, 'low': None, 'bid': 59.224, 'bidVolume': None, 'ask': 59.243, 'askVolume': None, 'vwap': None, 'open': None, 'close': 59.24, 'last': 59.24, 'previousClose': None, 'change': None, 'percentage': -0.05545457444433815, 'average': None, 'baseVolume': None, 'quoteVolume': 72509099.9143, 'info': {'name': 'FTT/USD', 'enabled': True, 'postOnly': False, 'priceIncrement': '0.001', 'sizeIncrement': '0.1', 'minProvideSize': '0.1', 'last': '59.24', 'bid': '59.224', 'ask': '59.243', 'price': '59.24', 'type': 'spot', 'baseCurrency': 'FTT', 'quoteCurrency': 'USD', 'underlying': None, 'restricted': False, 'highLeverageFeeExempt': True, 'change1h': '-0.00032062640274051196', 'change24h': '-0.05545457444433815', 'changeBod': '0.005499355013918121', 'quoteVolume24h': '72509099.9143', 'volumeUsd24h': '72509099.9143'}}\n",
            "Average_price =  59.2335\n"
          ],
          "name": "stdout"
        }
      ]
    },
    {
      "cell_type": "code",
      "metadata": {
        "colab": {
          "base_uri": "https://localhost:8080/"
        },
        "id": "79gLuGupTfH0",
        "outputId": "72ece3be-aea2-4d2d-83c3-caf425d92c72"
      },
      "source": [
        "# มูลค่า ของ Asset\n",
        "Asset_01_Value = Asset_01 * Average_price\n",
        "print(\"Asset_01_Value = \" ,Asset_01_Value)\n",
        "\n",
        "Asset_02_Value = Asset_02 * 1\n",
        "print(\"Asset_02_Value = \" ,Asset_02_Value)"
      ],
      "execution_count": null,
      "outputs": [
        {
          "output_type": "stream",
          "text": [
            "Asset_01_Value =  1973.283385358025\n",
            "Asset_02_Value =  1907.86392238\n"
          ],
          "name": "stdout"
        }
      ]
    },
    {
      "cell_type": "code",
      "metadata": {
        "id": "F6w1gLGDUDro",
        "colab": {
          "base_uri": "https://localhost:8080/"
        },
        "outputId": "b27f728e-bc33-47cd-a76b-8afcc308af7c"
      },
      "source": [
        "# เปรัียบเทียบ และ ตัดสินใจเทรด\n",
        "\n",
        "# Rebalance_mark = ((1943           + 1937)            / 2) = 1939\n",
        "Rebalance_mark   = ((Asset_01_Value + Asset_02_Value) / 2)\n",
        "Rebalance_percent = 1\n",
        "\n",
        "#    Asset_01_Value > (1939           + (1939          *   1             /1939) ) :      \n",
        "if   Asset_01_Value > (Rebalance_mark + (Rebalance_mark*Rebalance_percent/100) ) :\n",
        "  print(\"Asset_01_Value \",Asset_01_Value ,\">\", (Rebalance_mark + (Rebalance_mark*Rebalance_percent/100) ))\n",
        "  print(\"SELL\")\n",
        "  diff_sell  = Asset_01_Value - Rebalance_mark\n",
        "  print(diff_sell)\n",
        "  #exchange.create_order('FTT/USD' ,'market','sell',(diff_sell/Average_price)) ## กำหนดเป็น Unit USD/Price\n",
        "\n",
        "elif Asset_01_Value < (Rebalance_mark - (Rebalance_mark*Rebalance_percent/100) ) :\n",
        "  print(\"Asset_01_Value \",Asset_01_Value ,\"<\", (Rebalance_mark - (Rebalance_mark*Rebalance_percent/100) ))\n",
        "  print(\"Buy\")\n",
        "  diff_buy  = Rebalance_mark - Asset_01_Value\n",
        "  print(diff_buy)\n",
        "  #exchange.create_order('FTT/USD' ,'market','buy',(diff_buy/Average_price))\n",
        "  \n",
        "else :\n",
        "  print(\"None Trade\")"
      ],
      "execution_count": null,
      "outputs": [
        {
          "output_type": "stream",
          "text": [
            "Asset_01_Value  1973.283385358025 > 1959.9793904077028\n",
            "SELL\n",
            "32.70973148901248\n"
          ],
          "name": "stdout"
        }
      ]
    },
    {
      "cell_type": "code",
      "metadata": {
        "id": "dvEMHhrTMivQ",
        "colab": {
          "base_uri": "https://localhost:8080/",
          "height": 814
        },
        "outputId": "105ea4b1-6930-49cf-df1b-edebeb4cca72"
      },
      "source": [
        "import ccxt\n",
        "\n",
        "while True:\n",
        "  ## Login \n",
        "  import ccxt\n",
        "  # เปลี่ยน API เปลียน ข้อมูลกันด้วยนะครับ\n",
        "  apiKey    = \"03f795454f873bac1c778f8bdb8077e6\" #@param {type:\"string\"}\n",
        "  secret    = \"eb1c60a8f3ac70af8f33d55a2a851e04\" #@param {type:\"string\"}\n",
        "  password  = \"\" #@param {type:\"string\"}\n",
        "  Account_name  = \"FTT\" #@param {type:\"string\"}\n",
        "\n",
        "  exchange = ccxt.ftx  ({'apiKey' : apiKey ,'secret' : secret ,'password' : password ,'enableRateLimit': True})\n",
        "  # Sub Account Check\n",
        "  if Account_name == \"\" :\n",
        "    print(\"\\n\"\"Account Name - This is Main Account\",': Broker - ',exchange)     \n",
        "  else:\n",
        "    print( \"\\n\"'Account Name - ',Account_name,': Broker - ',exchange)\n",
        "    exchange.headers = {'ftx-SUBACCOUNT': Account_name,}\n",
        "  # ดูในพอร์ท ว่ามีเงินเท่าไร\n",
        "  Get_balance = exchange.fetch_balance()\n",
        "  print(Get_balance)\n",
        "  # ดูในพอร์ท ว่ามีเงินเท่าไร\n",
        "  Asset_01 = Get_balance ['FTT'] ['total']\n",
        "  Asset_02 = Get_balance ['USD'] ['total']\n",
        "  print(\"Asset 01 = \" , Asset_01,\"FTT\")\n",
        "  print(\"Asset 02 = \" , Asset_02,\"USD\")\n",
        "  # เรียกดูราคา สินทรัพย์ ที่เราเทรด เพื่อหา มูลค่า\n",
        "  get_price     = exchange.fetch_ticker('FTT/USD') \n",
        "  print(get_price)\n",
        "  Average_price = (get_price ['bid'] + get_price ['ask'] ) / 2\n",
        "  print(\"Average_price = \" ,Average_price)\n",
        "  # มูลค่า ของ Asset\n",
        "  Asset_01_Value = Asset_01 * Average_price\n",
        "  print(\"Asset_01_Value = \" ,Asset_01_Value)\n",
        "\n",
        "  Asset_02_Value = Asset_02 * 1\n",
        "  print(\"Asset_02_Value = \" ,Asset_02_Value)\n",
        "  # เปรัียบเทียบ และ ตัดสินใจเทรด\n",
        "\n",
        "  # Rebalance_mark = ((1943           + 1937)            / 2) = 1939\n",
        "  Rebalance_mark   = ((Asset_01_Value + Asset_02_Value) / 2)\n",
        "  Rebalance_percent = 1 #@param \n",
        "  \n",
        "  #    Asset_01_Value > (1939           + (1939          *   1             /1939) ) :      \n",
        "  if   Asset_01_Value > (Rebalance_mark + (Rebalance_mark*Rebalance_percent/100) ) :\n",
        "    print(\"Asset_01_Value \",Asset_01_Value ,\">\", (Rebalance_mark + (Rebalance_mark*Rebalance_percent/100) ))\n",
        "    print(\"SELL\")\n",
        "    diff_sell  = Asset_01_Value - Rebalance_mark\n",
        "    print(diff_sell)\n",
        "    #exchange.create_order('FTT/USD' ,'market','sell',(diff_sell/Average_price)) ## กำหนดเป็น Unit USD/Price\n",
        "\n",
        "  elif Asset_01_Value < (Rebalance_mark - (Rebalance_mark*Rebalance_percent/100) ) :\n",
        "    print(\"Asset_01_Value \",Asset_01_Value ,\"<\", (Rebalance_mark - (Rebalance_mark*Rebalance_percent/100) ))\n",
        "    print(\"Buy\")\n",
        "    diff_buy  = Rebalance_mark - Asset_01_Value\n",
        "    print(diff_buy)\n",
        "    #exchange.create_order('FTT/USD' ,'market','buy',(diff_buy/Average_price))\n",
        "    \n",
        "  else :\n",
        "    print(\"None Trade\")\n",
        "\n",
        "\n",
        "\n",
        "  import time\n",
        "  sleep = 10 \n",
        "  print(\"Sleep\",sleep,\"sec.\")\n",
        "  time.sleep(sleep) # Delay for 1 minute (60 seconds).  \n"
      ],
      "execution_count": null,
      "outputs": [
        {
          "output_type": "stream",
          "text": [
            "\n",
            "Account Name -  FTT : Broker -  FTX\n",
            "{'info': {'success': True, 'result': [{'coin': 'USD', 'total': '1925.61989795', 'free': '1195.25606007', 'availableWithoutBorrow': '862.15275013', 'usdValue': '1925.6198979542867', 'spotBorrow': '0.0'}, {'coin': 'FTT', 'total': '33.01363815', 'free': '6.51363815', 'availableWithoutBorrow': '6.51363815', 'usdValue': '1954.86956971017', 'spotBorrow': '0.0'}]}, 'USD': {'free': 1195.25606007, 'used': 730.36383788, 'total': 1925.61989795}, 'FTT': {'free': 6.51363815, 'used': 26.5, 'total': 33.01363815}, 'free': {'USD': 1195.25606007, 'FTT': 6.51363815}, 'used': {'USD': 730.36383788, 'FTT': 26.5}, 'total': {'USD': 1925.61989795, 'FTT': 33.01363815}}\n",
            "Asset 01 =  33.01363815 FTT\n",
            "Asset 02 =  1925.61989795 USD\n",
            "{'symbol': 'FTT/USD', 'timestamp': 1620722702846, 'datetime': '2021-05-11T08:45:02.846Z', 'high': None, 'low': None, 'bid': 59.166, 'bidVolume': None, 'ask': 59.189, 'askVolume': None, 'vwap': None, 'open': None, 'close': 59.17, 'last': 59.17, 'previousClose': None, 'change': None, 'percentage': -0.057156970537151235, 'average': None, 'baseVolume': None, 'quoteVolume': 72570609.8276, 'info': {'name': 'FTT/USD', 'enabled': True, 'postOnly': False, 'priceIncrement': '0.001', 'sizeIncrement': '0.1', 'minProvideSize': '0.1', 'last': '59.17', 'bid': '59.166', 'ask': '59.189', 'price': '59.17', 'type': 'spot', 'baseCurrency': 'FTT', 'quoteCurrency': 'USD', 'underlying': None, 'restricted': False, 'highLeverageFeeExempt': True, 'change1h': '-0.0010130001688333614', 'change24h': '-0.057156970537151235', 'changeBod': '0.0043112227578247', 'quoteVolume24h': '72570609.8276', 'volumeUsd24h': '72570609.8276'}}\n",
            "Average_price =  59.177499999999995\n",
            "Asset_01_Value =  1953.6645716216246\n",
            "Asset_02_Value =  1925.61989795\n",
            "None Trade\n",
            "Sleep 10 sec.\n",
            "\n",
            "Account Name -  FTT : Broker -  FTX\n",
            "{'info': {'success': True, 'result': [{'coin': 'USD', 'total': '1925.61989795', 'free': '1194.73852192', 'availableWithoutBorrow': '862.15275013', 'usdValue': '1925.6198979542867', 'spotBorrow': '0.0'}, {'coin': 'FTT', 'total': '33.01363815', 'free': '6.51363815', 'availableWithoutBorrow': '6.51363815', 'usdValue': '1951.83231499991', 'spotBorrow': '0.0'}]}, 'USD': {'free': 1194.73852192, 'used': 730.88137603, 'total': 1925.61989795}, 'FTT': {'free': 6.51363815, 'used': 26.5, 'total': 33.01363815}, 'free': {'USD': 1194.73852192, 'FTT': 6.51363815}, 'used': {'USD': 730.88137603, 'FTT': 26.5}, 'total': {'USD': 1925.61989795, 'FTT': 33.01363815}}\n",
            "Asset 01 =  33.01363815 FTT\n",
            "Asset 02 =  1925.61989795 USD\n",
            "{'symbol': 'FTT/USD', 'timestamp': 1620722713507, 'datetime': '2021-05-11T08:45:13.507Z', 'high': None, 'low': None, 'bid': 59.146, 'bidVolume': None, 'ask': 59.157, 'askVolume': None, 'vwap': None, 'open': None, 'close': 59.121, 'last': 59.121, 'previousClose': None, 'change': None, 'percentage': -0.05711871702083566, 'average': None, 'baseVolume': None, 'quoteVolume': 72570609.8276, 'info': {'name': 'FTT/USD', 'enabled': True, 'postOnly': False, 'priceIncrement': '0.001', 'sizeIncrement': '0.1', 'minProvideSize': '0.1', 'last': '59.121', 'bid': '59.146', 'ask': '59.157', 'price': '59.146', 'type': 'spot', 'baseCurrency': 'FTT', 'quoteCurrency': 'USD', 'underlying': None, 'restricted': False, 'highLeverageFeeExempt': True, 'change1h': '-0.001418200236366706', 'change24h': '-0.05711871702083566', 'changeBod': '0.003903863127164098', 'quoteVolume24h': '72570609.8276', 'volumeUsd24h': '72570609.8276'}}\n",
            "Average_price =  59.1515\n",
            "Asset_01_Value =  1952.8062170297248\n",
            "Asset_02_Value =  1925.61989795\n",
            "None Trade\n",
            "Sleep 10 sec.\n",
            "\n",
            "Account Name -  FTT : Broker -  FTX\n",
            "{'info': {'success': True, 'result': [{'coin': 'USD', 'total': '1925.61989795', 'free': '1194.74977274', 'availableWithoutBorrow': '862.15275013', 'usdValue': '1925.6198979542867', 'spotBorrow': '0.0'}, {'coin': 'FTT', 'total': '33.01363815', 'free': '6.51363815', 'availableWithoutBorrow': '6.51363815', 'usdValue': '1951.89834227622', 'spotBorrow': '0.0'}]}, 'USD': {'free': 1194.74977274, 'used': 730.87012521, 'total': 1925.61989795}, 'FTT': {'free': 6.51363815, 'used': 26.5, 'total': 33.01363815}, 'free': {'USD': 1194.74977274, 'FTT': 6.51363815}, 'used': {'USD': 730.87012521, 'FTT': 26.5}, 'total': {'USD': 1925.61989795, 'FTT': 33.01363815}}\n",
            "Asset 01 =  33.01363815 FTT\n",
            "Asset 02 =  1925.61989795 USD\n",
            "{'symbol': 'FTT/USD', 'timestamp': 1620722724142, 'datetime': '2021-05-11T08:45:24.142Z', 'high': None, 'low': None, 'bid': 59.204, 'bidVolume': None, 'ask': 59.257, 'askVolume': None, 'vwap': None, 'open': None, 'close': 59.257, 'last': 59.257, 'previousClose': None, 'change': None, 'percentage': -0.05534920052926079, 'average': None, 'baseVolume': None, 'quoteVolume': 72570609.8276, 'info': {'name': 'FTT/USD', 'enabled': True, 'postOnly': False, 'priceIncrement': '0.001', 'sizeIncrement': '0.1', 'minProvideSize': '0.1', 'last': '59.257', 'bid': '59.204', 'ask': '59.257', 'price': '59.257', 'type': 'spot', 'baseCurrency': 'FTT', 'quoteCurrency': 'USD', 'underlying': None, 'restricted': False, 'highLeverageFeeExempt': True, 'change1h': '0.0004558500759750127', 'change24h': '-0.05534920052926079', 'changeBod': '0.00578790141896938', 'quoteVolume24h': '72570609.8276', 'volumeUsd24h': '72570609.8276'}}\n",
            "Average_price =  59.2305\n",
            "Asset_01_Value =  1955.4142944435748\n",
            "Asset_02_Value =  1925.61989795\n",
            "None Trade\n",
            "Sleep 10 sec.\n"
          ],
          "name": "stdout"
        },
        {
          "output_type": "error",
          "ename": "KeyboardInterrupt",
          "evalue": "ignored",
          "traceback": [
            "\u001b[0;31m---------------------------------------------------------------------------\u001b[0m",
            "\u001b[0;31mKeyboardInterrupt\u001b[0m                         Traceback (most recent call last)",
            "\u001b[0;32m<ipython-input-21-3786f626fb10>\u001b[0m in \u001b[0;36m<module>\u001b[0;34m()\u001b[0m\n\u001b[1;32m     66\u001b[0m   \u001b[0msleep\u001b[0m \u001b[0;34m=\u001b[0m \u001b[0;36m10\u001b[0m\u001b[0;34m\u001b[0m\u001b[0;34m\u001b[0m\u001b[0m\n\u001b[1;32m     67\u001b[0m   \u001b[0mprint\u001b[0m\u001b[0;34m(\u001b[0m\u001b[0;34m\"Sleep\"\u001b[0m\u001b[0;34m,\u001b[0m\u001b[0msleep\u001b[0m\u001b[0;34m,\u001b[0m\u001b[0;34m\"sec.\"\u001b[0m\u001b[0;34m)\u001b[0m\u001b[0;34m\u001b[0m\u001b[0;34m\u001b[0m\u001b[0m\n\u001b[0;32m---> 68\u001b[0;31m   \u001b[0mtime\u001b[0m\u001b[0;34m.\u001b[0m\u001b[0msleep\u001b[0m\u001b[0;34m(\u001b[0m\u001b[0msleep\u001b[0m\u001b[0;34m)\u001b[0m \u001b[0;31m# Delay for 1 minute (60 seconds).\u001b[0m\u001b[0;34m\u001b[0m\u001b[0;34m\u001b[0m\u001b[0m\n\u001b[0m",
            "\u001b[0;31mKeyboardInterrupt\u001b[0m: "
          ]
        }
      ]
    }
  ]
}